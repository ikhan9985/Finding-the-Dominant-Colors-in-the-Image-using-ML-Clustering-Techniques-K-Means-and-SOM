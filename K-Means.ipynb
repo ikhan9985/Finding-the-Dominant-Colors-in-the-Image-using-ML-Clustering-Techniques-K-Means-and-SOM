{
 "cells": [
  {
   "cell_type": "code",
   "execution_count": 51,
   "metadata": {
    "colab": {
     "base_uri": "https://localhost:8080/"
    },
    "executionInfo": {
     "elapsed": 3969,
     "status": "ok",
     "timestamp": 1659475723140,
     "user": {
      "displayName": "SI Bot",
      "userId": "14141521839268310031"
     },
     "user_tz": -300
    },
    "id": "kaj1jtDUST6_",
    "outputId": "7edfbf1b-3fb2-4c30-f44b-98308251c240"
   },
   "outputs": [
    {
     "name": "stdout",
     "output_type": "stream",
     "text": [
      "Drive already mounted at /content/gdrive; to attempt to forcibly remount, call drive.mount(\"/content/gdrive\", force_remount=True).\n"
     ]
    }
   ],
   "source": [
    "#Connecting to Google Colab (In Google Colab case)\n",
    "\n",
    "from google.colab import drive\n",
    "drive.mount('/content/gdrive')"
   ]
  },
  {
   "cell_type": "code",
   "execution_count": 52,
   "metadata": {
    "executionInfo": {
     "elapsed": 4,
     "status": "ok",
     "timestamp": 1659475724796,
     "user": {
      "displayName": "SI Bot",
      "userId": "14141521839268310031"
     },
     "user_tz": -300
    },
    "id": "A1ryeoB2RdEG"
   },
   "outputs": [],
   "source": [
    "from collections import Counter\n",
    "from sklearn.cluster import KMeans\n",
    "from matplotlib import colors\n",
    "import matplotlib.pyplot as plt\n",
    "import numpy as np\n",
    "import cv2"
   ]
  },
  {
   "cell_type": "code",
   "execution_count": 53,
   "metadata": {
    "executionInfo": {
     "elapsed": 7,
     "status": "ok",
     "timestamp": 1659475725301,
     "user": {
      "displayName": "SI Bot",
      "userId": "14141521839268310031"
     },
     "user_tz": -300
    },
    "id": "IZce3uusRdL-"
   },
   "outputs": [],
   "source": [
    "def rgb_to_hex(rgb_color):\n",
    "    hex_color = \"#\"\n",
    "    for i in rgb_color:\n",
    "        i=int(i)\n",
    "        hex_color += (\"{:02x}\".format(i))\n",
    "    return hex_color"
   ]
  },
  {
   "cell_type": "code",
   "execution_count": 54,
   "metadata": {
    "colab": {
     "base_uri": "https://localhost:8080/",
     "height": 35
    },
    "executionInfo": {
     "elapsed": 13,
     "status": "ok",
     "timestamp": 1659475728330,
     "user": {
      "displayName": "SI Bot",
      "userId": "14141521839268310031"
     },
     "user_tz": -300
    },
    "id": "lp9yl3ubSj0M",
    "outputId": "8142f333-b683-423c-e345-3fb2d4419400"
   },
   "outputs": [
    {
     "data": {
      "application/vnd.google.colaboratory.intrinsic+json": {
       "type": "string"
      },
      "text/plain": [
       "'#ff0000'"
      ]
     },
     "execution_count": 54,
     "metadata": {},
     "output_type": "execute_result"
    }
   ],
   "source": [
    "rgb_to_hex((255,0,0))"
   ]
  },
  {
   "cell_type": "code",
   "execution_count": 55,
   "metadata": {
    "colab": {
     "base_uri": "https://localhost:8080/"
    },
    "executionInfo": {
     "elapsed": 544,
     "status": "ok",
     "timestamp": 1659475732071,
     "user": {
      "displayName": "SI Bot",
      "userId": "14141521839268310031"
     },
     "user_tz": -300
    },
    "id": "i_N2GqOgSkV7",
    "outputId": "0547e8be-7562-45bc-846d-07be8c4506c7"
   },
   "outputs": [
    {
     "name": "stdout",
     "output_type": "stream",
     "text": [
      "[[[55 30 34]\n",
      "  [54 29 33]\n",
      "  [54 29 33]\n",
      "  ...\n",
      "  [56 33 37]\n",
      "  [55 33 35]\n",
      "  [56 34 36]]\n",
      "\n",
      " [[55 30 34]\n",
      "  [55 30 34]\n",
      "  [56 31 35]\n",
      "  ...\n",
      "  [57 34 38]\n",
      "  [56 34 36]\n",
      "  [57 35 37]]\n",
      "\n",
      " [[55 30 34]\n",
      "  [55 30 34]\n",
      "  [56 31 35]\n",
      "  ...\n",
      "  [58 35 39]\n",
      "  [57 35 37]\n",
      "  [58 36 38]]\n",
      "\n",
      " ...\n",
      "\n",
      " [[18 10 11]\n",
      "  [18 10 11]\n",
      "  [17  9 10]\n",
      "  ...\n",
      "  [20 12 13]\n",
      "  [19 11 11]\n",
      "  [19 11 11]]\n",
      "\n",
      " [[21 13 14]\n",
      "  [20 12 13]\n",
      "  [18 10 11]\n",
      "  ...\n",
      "  [18 10 11]\n",
      "  [19 11 11]\n",
      "  [18 10 10]]\n",
      "\n",
      " [[20 12 13]\n",
      "  [18 10 11]\n",
      "  [18 10 11]\n",
      "  ...\n",
      "  [17  9 10]\n",
      "  [17  9  9]\n",
      "  [17  9  9]]]\n"
     ]
    }
   ],
   "source": [
    "img_name = cv2.imread(\"/content/gdrive/MyDrive/A1/dominant-colors.jpg\")\n",
    "#img_name = cv2.cvtColor(img, cv2.COLOR_BGR2RGB)\n",
    "print(img_name)"
   ]
  },
  {
   "cell_type": "code",
   "execution_count": 56,
   "metadata": {
    "colab": {
     "base_uri": "https://localhost:8080/"
    },
    "executionInfo": {
     "elapsed": 8,
     "status": "ok",
     "timestamp": 1659475732821,
     "user": {
      "displayName": "SI Bot",
      "userId": "14141521839268310031"
     },
     "user_tz": -300
    },
    "id": "VHxJrgHkWVKE",
    "outputId": "cfbc9a55-9eb0-4d60-a1a7-3f67d3e16101"
   },
   "outputs": [
    {
     "data": {
      "text/plain": [
       "(600, 900, 3)"
      ]
     },
     "execution_count": 56,
     "metadata": {},
     "output_type": "execute_result"
    }
   ],
   "source": [
    "img = cv2.resize(img_name, (900, 600), interpolation=cv2.INTER_AREA)\n",
    "img.shape"
   ]
  },
  {
   "cell_type": "code",
   "execution_count": 57,
   "metadata": {
    "colab": {
     "base_uri": "https://localhost:8080/"
    },
    "executionInfo": {
     "elapsed": 4,
     "status": "ok",
     "timestamp": 1659475734480,
     "user": {
      "displayName": "SI Bot",
      "userId": "14141521839268310031"
     },
     "user_tz": -300
    },
    "id": "uAqCi3phSki5",
    "outputId": "c5528c6b-7556-487d-97ae-964e18f6a4d9"
   },
   "outputs": [
    {
     "data": {
      "text/plain": [
       "(540000, 3)"
      ]
     },
     "execution_count": 57,
     "metadata": {},
     "output_type": "execute_result"
    }
   ],
   "source": [
    "img = img.reshape(img.shape[0]*img.shape[1], 3)\n",
    "img.shape"
   ]
  },
  {
   "cell_type": "code",
   "execution_count": 58,
   "metadata": {
    "colab": {
     "base_uri": "https://localhost:8080/"
    },
    "executionInfo": {
     "elapsed": 18,
     "status": "ok",
     "timestamp": 1659475736134,
     "user": {
      "displayName": "SI Bot",
      "userId": "14141521839268310031"
     },
     "user_tz": -300
    },
    "id": "CAy4yy-qYAdd",
    "outputId": "c1211b5c-f56b-48ec-a91e-07491314815a"
   },
   "outputs": [
    {
     "data": {
      "text/plain": [
       "array([[55, 30, 34],\n",
       "       [55, 30, 34],\n",
       "       [54, 29, 33],\n",
       "       ...,\n",
       "       [17,  9,  9],\n",
       "       [17,  9,  9],\n",
       "       [17,  9,  9]], dtype=uint8)"
      ]
     },
     "execution_count": 58,
     "metadata": {},
     "output_type": "execute_result"
    }
   ],
   "source": [
    "img"
   ]
  },
  {
   "cell_type": "code",
   "execution_count": 59,
   "metadata": {
    "colab": {
     "base_uri": "https://localhost:8080/"
    },
    "executionInfo": {
     "elapsed": 2912,
     "status": "ok",
     "timestamp": 1659475740953,
     "user": {
      "displayName": "SI Bot",
      "userId": "14141521839268310031"
     },
     "user_tz": -300
    },
    "id": "TMWc7KwtYAqB",
    "outputId": "680ac68b-a9e6-43d4-c111-51a242fa235a"
   },
   "outputs": [
    {
     "name": "stdout",
     "output_type": "stream",
     "text": [
      "Enter the number of K:9\n"
     ]
    }
   ],
   "source": [
    "k = input(\"Enter the number of K:\")"
   ]
  },
  {
   "cell_type": "code",
   "execution_count": 60,
   "metadata": {
    "executionInfo": {
     "elapsed": 8919,
     "status": "ok",
     "timestamp": 1659475749865,
     "user": {
      "displayName": "SI Bot",
      "userId": "14141521839268310031"
     },
     "user_tz": -300
    },
    "id": "QJc-8CkKYAuZ"
   },
   "outputs": [],
   "source": [
    "k = int(k)\n",
    "clf = KMeans(n_clusters = k)\n",
    "color_labels = clf.fit_predict(img)\n",
    "center_colors = clf.cluster_centers_"
   ]
  },
  {
   "cell_type": "code",
   "execution_count": 61,
   "metadata": {
    "colab": {
     "base_uri": "https://localhost:8080/"
    },
    "executionInfo": {
     "elapsed": 20,
     "status": "ok",
     "timestamp": 1659475750319,
     "user": {
      "displayName": "SI Bot",
      "userId": "14141521839268310031"
     },
     "user_tz": -300
    },
    "id": "oYYt8Or4Y9tr",
    "outputId": "cac4e268-25aa-4e03-8e75-e6cb82e8ef1c"
   },
   "outputs": [
    {
     "data": {
      "text/plain": [
       "array([8, 8, 8, ..., 2, 2, 2], dtype=int32)"
      ]
     },
     "execution_count": 61,
     "metadata": {},
     "output_type": "execute_result"
    }
   ],
   "source": [
    "color_labels"
   ]
  },
  {
   "cell_type": "code",
   "execution_count": 62,
   "metadata": {
    "colab": {
     "base_uri": "https://localhost:8080/"
    },
    "executionInfo": {
     "elapsed": 16,
     "status": "ok",
     "timestamp": 1659475750321,
     "user": {
      "displayName": "SI Bot",
      "userId": "14141521839268310031"
     },
     "user_tz": -300
    },
    "id": "10rAu2aVZnR9",
    "outputId": "c21fd10a-9914-4a48-e041-fb8e7e00cefd"
   },
   "outputs": [
    {
     "data": {
      "text/plain": [
       "array([[ 90.47886155,  56.73786044,  77.13163119],\n",
       "       [165.40381203, 126.82459005, 140.21278484],\n",
       "       [ 27.46522406,  15.14815265,  25.30253288],\n",
       "       [126.21910587,  99.21190724, 159.51208623],\n",
       "       [122.65084558,  83.09636937, 110.32882021],\n",
       "       [116.07578646,  78.16897045,   7.90949714],\n",
       "       [126.593804  , 185.76832881, 249.8705258 ],\n",
       "       [ 89.03375352, 118.51758169, 229.88986565],\n",
       "       [ 45.34036361,  28.39558616,  55.62732519]])"
      ]
     },
     "execution_count": 62,
     "metadata": {},
     "output_type": "execute_result"
    }
   ],
   "source": [
    "center_colors"
   ]
  },
  {
   "cell_type": "code",
   "execution_count": 63,
   "metadata": {
    "colab": {
     "base_uri": "https://localhost:8080/"
    },
    "executionInfo": {
     "elapsed": 19,
     "status": "ok",
     "timestamp": 1659475751266,
     "user": {
      "displayName": "SI Bot",
      "userId": "14141521839268310031"
     },
     "user_tz": -300
    },
    "id": "QHEVl3XlZnb8",
    "outputId": "4c8d7016-7c4f-4fbd-c6ab-2875f7c10679"
   },
   "outputs": [
    {
     "data": {
      "text/plain": [
       "Counter({0: 61488,\n",
       "         1: 28122,\n",
       "         2: 222240,\n",
       "         3: 50730,\n",
       "         4: 59712,\n",
       "         5: 16801,\n",
       "         6: 8102,\n",
       "         7: 12058,\n",
       "         8: 80747})"
      ]
     },
     "execution_count": 63,
     "metadata": {},
     "output_type": "execute_result"
    }
   ],
   "source": [
    "counts = Counter(color_labels)\n",
    "counts"
   ]
  },
  {
   "cell_type": "code",
   "execution_count": 64,
   "metadata": {
    "colab": {
     "base_uri": "https://localhost:8080/"
    },
    "executionInfo": {
     "elapsed": 14,
     "status": "ok",
     "timestamp": 1659475753922,
     "user": {
      "displayName": "SI Bot",
      "userId": "14141521839268310031"
     },
     "user_tz": -300
    },
    "id": "pO8T16OkZrJz",
    "outputId": "d4d6dba7-00da-4e44-9e5f-dbd4acff5add"
   },
   "outputs": [
    {
     "data": {
      "text/plain": [
       "['#744e07',\n",
       " '#2d1c37',\n",
       " '#7e639f',\n",
       " '#5a384d',\n",
       " '#a57e8c',\n",
       " '#7a536e',\n",
       " '#7eb9f9',\n",
       " '#5976e5',\n",
       " '#1b0f19']"
      ]
     },
     "execution_count": 64,
     "metadata": {},
     "output_type": "execute_result"
    }
   ],
   "source": [
    "ordered_colors = [center_colors[i] for i in counts.keys()]\n",
    "hex_colors = [rgb_to_hex(ordered_colors[i]) for i in counts.keys()]\n",
    "hex_colors"
   ]
  },
  {
   "cell_type": "code",
   "execution_count": 68,
   "metadata": {
    "colab": {
     "base_uri": "https://localhost:8080/",
     "height": 778
    },
    "executionInfo": {
     "elapsed": 642,
     "status": "ok",
     "timestamp": 1659475780558,
     "user": {
      "displayName": "SI Bot",
      "userId": "14141521839268310031"
     },
     "user_tz": -300
    },
    "id": "Ee7s2N7lY9xx",
    "outputId": "6c39ed8f-5e85-4d74-8916-9db45366e544"
   },
   "outputs": [
    {
     "data": {
      "text/plain": [
       "([<matplotlib.patches.Wedge at 0x7f864e9381d0>,\n",
       "  <matplotlib.patches.Wedge at 0x7f864e938590>,\n",
       "  <matplotlib.patches.Wedge at 0x7f864e938bd0>,\n",
       "  <matplotlib.patches.Wedge at 0x7f864e9401d0>,\n",
       "  <matplotlib.patches.Wedge at 0x7f864e940a10>,\n",
       "  <matplotlib.patches.Wedge at 0x7f864e94d090>,\n",
       "  <matplotlib.patches.Wedge at 0x7f864e94d490>,\n",
       "  <matplotlib.patches.Wedge at 0x7f864e94da50>,\n",
       "  <matplotlib.patches.Wedge at 0x7f864e940790>],\n",
       " [Text(0.9808411599111198, 0.49794640175847166, '#744e07'),\n",
       "  Text(0.29715526523850366, 1.0591028034808683, '#2d1c37'),\n",
       "  Text(-0.46013047719166467, 0.9991396018371863, '#7e639f'),\n",
       "  Text(-0.8899788714934198, 0.6464809419428381, '#5a384d'),\n",
       "  Text(-1.0842392925141167, 0.18554017507938325, '#a57e8c'),\n",
       "  Text(-0.16677908823535276, -1.0872831902165068, '#7a536e'),\n",
       "  Text(1.0295213216726413, -0.3874091483450257, '#7eb9f9'),\n",
       "  Text(1.0677819857610136, -0.2642756721385202, '#5976e5'),\n",
       "  Text(1.0947495178633735, -0.10734753438207854, '#1b0f19')])"
      ]
     },
     "execution_count": 68,
     "metadata": {},
     "output_type": "execute_result"
    },
    {
     "data": {
      "image/png": "[encoded data removed]",
      "text/plain": [
       "<Figure size 864x576 with 1 Axes>"
      ]
     },
     "metadata": {},
     "output_type": "display_data"
    }
   ],
   "source": [
    "plt.figure(figsize=(12,8))\n",
    "plt.pie(counts.values(), labels= hex_colors, colors= hex_colors)\n",
    "#plt.savefig('analysis2.png')"
   ]
  },
  {
   "cell_type": "code",
   "execution_count": null,
   "metadata": {
    "id": "btiRIOzzdWbl"
   },
   "outputs": [],
   "source": []
  }
 ],
 "metadata": {
  "colab": {
   "authorship_tag": "ABX9TyMLmyRxK1hmDZhwqPtdW328",
   "collapsed_sections": [],
   "name": "K-Means.ipynb",
   "provenance": []
  },
  "kernelspec": {
   "display_name": "Python 3 (ipykernel)",
   "language": "python",
   "name": "python3"
  },
  "language_info": {
   "codemirror_mode": {
    "name": "ipython",
    "version": 3
   },
   "file_extension": ".py",
   "mimetype": "text/x-python",
   "name": "python",
   "nbconvert_exporter": "python",
   "pygments_lexer": "ipython3",
   "version": "3.8.2"
  }
 },
 "nbformat": 4,
 "nbformat_minor": 1
}
